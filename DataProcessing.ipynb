{
 "metadata": {
  "language_info": {
   "codemirror_mode": {
    "name": "ipython",
    "version": 3
   },
   "file_extension": ".py",
   "mimetype": "text/x-python",
   "name": "python",
   "nbconvert_exporter": "python",
   "pygments_lexer": "ipython3",
   "version": "3.7.4-final"
  },
  "orig_nbformat": 2,
  "kernelspec": {
   "name": "python3",
   "display_name": "Python 3",
   "language": "python"
  }
 },
 "nbformat": 4,
 "nbformat_minor": 2,
 "cells": [
  {
   "cell_type": "code",
   "execution_count": 7,
   "metadata": {},
   "outputs": [],
   "source": [
    "import pandas as pd\n"
   ]
  },
  {
   "cell_type": "code",
   "execution_count": 8,
   "metadata": {},
   "outputs": [
    {
     "output_type": "execute_result",
     "data": {
      "text/plain": [
       "                       Player Pos  Age   Tm   G  GS    MP   FG   FGA    FG%  \\\n",
       "0                Steven Adams   C   26  OKC  63  63  1680  283   478  0.592   \n",
       "1                 Bam Adebayo  PF   22  MIA  72  72  2417  440   790  0.557   \n",
       "2           LaMarcus Aldridge   C   34  SAS  53  53  1754  391   793  0.493   \n",
       "3              Kyle Alexander  PF   23  MIA   2   0    13    1     2  0.500   \n",
       "4    Nickeil Alexander-Walker  SG   21  NOP  47   1   591   98   266  0.368   \n",
       "..                        ...  ..  ...  ...  ..  ..   ...  ...   ...    ...   \n",
       "646                Trae Young  PG   21  ATL  60  60  2120  546  1249  0.437   \n",
       "647               Cody Zeller   C   27  CHO  58  39  1341  251   479  0.524   \n",
       "648              Tyler Zeller   C   30  SAS   2   0     4    1     4  0.250   \n",
       "649                Ante Žižić   C   23  CLE  22   0   221   41    72  0.569   \n",
       "650               Ivica Zubac   C   22  LAC  72  70  1326  236   385  0.613   \n",
       "\n",
       "     ...    FT%  ORB  DRB  TRB  AST  STL  BLK  TOV   PF   PTS  \n",
       "0    ...  0.582  207  376  583  146   51   67   94  122   684  \n",
       "1    ...  0.691  176  559  735  368   82   93  204  182  1146  \n",
       "2    ...  0.827  103  289  392  129   36   87   74  128  1001  \n",
       "3    ...    NaN    2    1    3    0    0    0    1    1     2  \n",
       "4    ...  0.676    9   75   84   89   17    8   54   57   267  \n",
       "..   ...    ...  ...  ...  ...  ...  ...  ...  ...  ...   ...  \n",
       "646  ...  0.860   32  223  255  560   65    8  289  104  1778  \n",
       "647  ...  0.682  160  251  411   88   40   25   75  140   642  \n",
       "648  ...    NaN    3    1    4    0    0    0    0    0     2  \n",
       "649  ...  0.737   18   48   66    6    7    5   10   27    96  \n",
       "650  ...  0.747  197  346  543   82   16   66   61  168   596  \n",
       "\n",
       "[651 rows x 29 columns]"
      ],
      "text/html": "<div>\n<style scoped>\n    .dataframe tbody tr th:only-of-type {\n        vertical-align: middle;\n    }\n\n    .dataframe tbody tr th {\n        vertical-align: top;\n    }\n\n    .dataframe thead th {\n        text-align: right;\n    }\n</style>\n<table border=\"1\" class=\"dataframe\">\n  <thead>\n    <tr style=\"text-align: right;\">\n      <th></th>\n      <th>Player</th>\n      <th>Pos</th>\n      <th>Age</th>\n      <th>Tm</th>\n      <th>G</th>\n      <th>GS</th>\n      <th>MP</th>\n      <th>FG</th>\n      <th>FGA</th>\n      <th>FG%</th>\n      <th>...</th>\n      <th>FT%</th>\n      <th>ORB</th>\n      <th>DRB</th>\n      <th>TRB</th>\n      <th>AST</th>\n      <th>STL</th>\n      <th>BLK</th>\n      <th>TOV</th>\n      <th>PF</th>\n      <th>PTS</th>\n    </tr>\n  </thead>\n  <tbody>\n    <tr>\n      <th>0</th>\n      <td>Steven Adams</td>\n      <td>C</td>\n      <td>26</td>\n      <td>OKC</td>\n      <td>63</td>\n      <td>63</td>\n      <td>1680</td>\n      <td>283</td>\n      <td>478</td>\n      <td>0.592</td>\n      <td>...</td>\n      <td>0.582</td>\n      <td>207</td>\n      <td>376</td>\n      <td>583</td>\n      <td>146</td>\n      <td>51</td>\n      <td>67</td>\n      <td>94</td>\n      <td>122</td>\n      <td>684</td>\n    </tr>\n    <tr>\n      <th>1</th>\n      <td>Bam Adebayo</td>\n      <td>PF</td>\n      <td>22</td>\n      <td>MIA</td>\n      <td>72</td>\n      <td>72</td>\n      <td>2417</td>\n      <td>440</td>\n      <td>790</td>\n      <td>0.557</td>\n      <td>...</td>\n      <td>0.691</td>\n      <td>176</td>\n      <td>559</td>\n      <td>735</td>\n      <td>368</td>\n      <td>82</td>\n      <td>93</td>\n      <td>204</td>\n      <td>182</td>\n      <td>1146</td>\n    </tr>\n    <tr>\n      <th>2</th>\n      <td>LaMarcus Aldridge</td>\n      <td>C</td>\n      <td>34</td>\n      <td>SAS</td>\n      <td>53</td>\n      <td>53</td>\n      <td>1754</td>\n      <td>391</td>\n      <td>793</td>\n      <td>0.493</td>\n      <td>...</td>\n      <td>0.827</td>\n      <td>103</td>\n      <td>289</td>\n      <td>392</td>\n      <td>129</td>\n      <td>36</td>\n      <td>87</td>\n      <td>74</td>\n      <td>128</td>\n      <td>1001</td>\n    </tr>\n    <tr>\n      <th>3</th>\n      <td>Kyle Alexander</td>\n      <td>PF</td>\n      <td>23</td>\n      <td>MIA</td>\n      <td>2</td>\n      <td>0</td>\n      <td>13</td>\n      <td>1</td>\n      <td>2</td>\n      <td>0.500</td>\n      <td>...</td>\n      <td>NaN</td>\n      <td>2</td>\n      <td>1</td>\n      <td>3</td>\n      <td>0</td>\n      <td>0</td>\n      <td>0</td>\n      <td>1</td>\n      <td>1</td>\n      <td>2</td>\n    </tr>\n    <tr>\n      <th>4</th>\n      <td>Nickeil Alexander-Walker</td>\n      <td>SG</td>\n      <td>21</td>\n      <td>NOP</td>\n      <td>47</td>\n      <td>1</td>\n      <td>591</td>\n      <td>98</td>\n      <td>266</td>\n      <td>0.368</td>\n      <td>...</td>\n      <td>0.676</td>\n      <td>9</td>\n      <td>75</td>\n      <td>84</td>\n      <td>89</td>\n      <td>17</td>\n      <td>8</td>\n      <td>54</td>\n      <td>57</td>\n      <td>267</td>\n    </tr>\n    <tr>\n      <th>...</th>\n      <td>...</td>\n      <td>...</td>\n      <td>...</td>\n      <td>...</td>\n      <td>...</td>\n      <td>...</td>\n      <td>...</td>\n      <td>...</td>\n      <td>...</td>\n      <td>...</td>\n      <td>...</td>\n      <td>...</td>\n      <td>...</td>\n      <td>...</td>\n      <td>...</td>\n      <td>...</td>\n      <td>...</td>\n      <td>...</td>\n      <td>...</td>\n      <td>...</td>\n      <td>...</td>\n    </tr>\n    <tr>\n      <th>646</th>\n      <td>Trae Young</td>\n      <td>PG</td>\n      <td>21</td>\n      <td>ATL</td>\n      <td>60</td>\n      <td>60</td>\n      <td>2120</td>\n      <td>546</td>\n      <td>1249</td>\n      <td>0.437</td>\n      <td>...</td>\n      <td>0.860</td>\n      <td>32</td>\n      <td>223</td>\n      <td>255</td>\n      <td>560</td>\n      <td>65</td>\n      <td>8</td>\n      <td>289</td>\n      <td>104</td>\n      <td>1778</td>\n    </tr>\n    <tr>\n      <th>647</th>\n      <td>Cody Zeller</td>\n      <td>C</td>\n      <td>27</td>\n      <td>CHO</td>\n      <td>58</td>\n      <td>39</td>\n      <td>1341</td>\n      <td>251</td>\n      <td>479</td>\n      <td>0.524</td>\n      <td>...</td>\n      <td>0.682</td>\n      <td>160</td>\n      <td>251</td>\n      <td>411</td>\n      <td>88</td>\n      <td>40</td>\n      <td>25</td>\n      <td>75</td>\n      <td>140</td>\n      <td>642</td>\n    </tr>\n    <tr>\n      <th>648</th>\n      <td>Tyler Zeller</td>\n      <td>C</td>\n      <td>30</td>\n      <td>SAS</td>\n      <td>2</td>\n      <td>0</td>\n      <td>4</td>\n      <td>1</td>\n      <td>4</td>\n      <td>0.250</td>\n      <td>...</td>\n      <td>NaN</td>\n      <td>3</td>\n      <td>1</td>\n      <td>4</td>\n      <td>0</td>\n      <td>0</td>\n      <td>0</td>\n      <td>0</td>\n      <td>0</td>\n      <td>2</td>\n    </tr>\n    <tr>\n      <th>649</th>\n      <td>Ante Žižić</td>\n      <td>C</td>\n      <td>23</td>\n      <td>CLE</td>\n      <td>22</td>\n      <td>0</td>\n      <td>221</td>\n      <td>41</td>\n      <td>72</td>\n      <td>0.569</td>\n      <td>...</td>\n      <td>0.737</td>\n      <td>18</td>\n      <td>48</td>\n      <td>66</td>\n      <td>6</td>\n      <td>7</td>\n      <td>5</td>\n      <td>10</td>\n      <td>27</td>\n      <td>96</td>\n    </tr>\n    <tr>\n      <th>650</th>\n      <td>Ivica Zubac</td>\n      <td>C</td>\n      <td>22</td>\n      <td>LAC</td>\n      <td>72</td>\n      <td>70</td>\n      <td>1326</td>\n      <td>236</td>\n      <td>385</td>\n      <td>0.613</td>\n      <td>...</td>\n      <td>0.747</td>\n      <td>197</td>\n      <td>346</td>\n      <td>543</td>\n      <td>82</td>\n      <td>16</td>\n      <td>66</td>\n      <td>61</td>\n      <td>168</td>\n      <td>596</td>\n    </tr>\n  </tbody>\n</table>\n<p>651 rows × 29 columns</p>\n</div>"
     },
     "metadata": {},
     "execution_count": 8
    }
   ],
   "source": [
    "pd.read_csv('NBA_totals_2019-2020.csv')"
   ]
  },
  {
   "cell_type": "code",
   "execution_count": null,
   "metadata": {},
   "outputs": [],
   "source": []
  }
 ]
}